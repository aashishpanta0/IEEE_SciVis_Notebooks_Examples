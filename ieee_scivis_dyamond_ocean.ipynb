{
 "cells": [
  {
   "cell_type": "markdown",
   "id": "ff5edf9e-1b2c-4e4f-bbac-70c0d7554e29",
   "metadata": {},
   "source": [
    "## This notebook provide the instructions on how to read the DYAMOND data from the SealStorage using OpenVisus framework.\n",
    "\n",
    "### To run this notebook properly, you need to install the library `OpenVisus`. To install this, please run the following command from your terminal:\n",
    "`pip install OpenVisus`"
   ]
  },
  {
   "cell_type": "markdown",
   "id": "3ba0b27c-cda7-4c59-935d-50b7766303a4",
   "metadata": {},
   "source": [
    "# **Step 1: Importing the libraries**"
   ]
  },
  {
   "cell_type": "code",
   "execution_count": 1,
   "id": "c9e182d7",
   "metadata": {
    "tags": []
   },
   "outputs": [],
   "source": [
    "import numpy as np\n",
    "import OpenVisus as ov\n",
    "import matplotlib.pyplot as plt\n",
    "from mpl_toolkits.axes_grid1 import make_axes_locatable\n",
    "import os\n",
    "os.environ['VISUS_CACHE']= \"./visus_can_be_deleted\""
   ]
  },
  {
   "cell_type": "markdown",
   "id": "b5047424-1db9-49eb-a882-77637e0adaaf",
   "metadata": {},
   "source": [
    "### The section below shows different LLC2160 fields we have available in cloud. \n",
    "\n",
    "### set the variable"
   ]
  },
  {
   "cell_type": "code",
   "execution_count": 2,
   "id": "035b1cad-4a13-4743-86d9-57adf01fdf0c",
   "metadata": {},
   "outputs": [],
   "source": [
    "variable='salt' # options are: u,v,w,theta,salt"
   ]
  },
  {
   "cell_type": "code",
   "execution_count": 3,
   "id": "af808135-53cb-4d37-aeae-77293b3a1a30",
   "metadata": {},
   "outputs": [],
   "source": [
    "base_url= \"https://nsdf-climate3-origin.nationalresearchplatform.org:50098/nasa/nsdf/climate3/dyamond/\"\n",
    "if variable==\"theta\" or variable==\"w\":\n",
    "    base_dir=f\"mit_output/llc2160_{variable}/llc2160_{variable}.idx\"\n",
    "elif variable==\"u\":\n",
    "    base_dir= \"mit_output/llc2160_arco/visus.idx\"\n",
    "else:\n",
    "    base_dir=f\"mit_output/llc2160_{variable}/{variable}_llc2160_x_y_depth.idx\""
   ]
  },
  {
   "cell_type": "code",
   "execution_count": 4,
   "id": "03d6c4ce-9d79-4342-b236-9d224a82039b",
   "metadata": {},
   "outputs": [],
   "source": [
    "field= base_url+base_dir"
   ]
  },
  {
   "cell_type": "markdown",
   "id": "79a02fb9-abd7-4168-9f2d-6700c10d8eba",
   "metadata": {
    "tags": []
   },
   "source": [
    "## **Step 2: Reading the metadata file from cloud**\n",
    "In this section, you can select any variables that you can declared in the cells above and replace it inside `LoadDataset`. We are just reading the metadata for the dataset here."
   ]
  },
  {
   "cell_type": "code",
   "execution_count": null,
   "id": "472f1b60-217f-4f50-96c5-2e079d53559a",
   "metadata": {
    "tags": []
   },
   "outputs": [],
   "source": [
    "db=ov.LoadDataset(field)\n",
    "print(f'Dimensions: {db.getLogicBox()[1][0]}*{db.getLogicBox()[1][1]}*{db.getLogicBox()[1][2]}')\n",
    "print(f'Total Timesteps: {len(db.getTimesteps())}')\n",
    "print(f'Field: {db.getField().name}')\n",
    "print('Data Type: float32')"
   ]
  },
  {
   "cell_type": "markdown",
   "id": "ebe3db04-4720-4e1c-856e-e962d4dda777",
   "metadata": {
    "tags": []
   },
   "source": [
    "## **Step 3:  Data Selection**\n",
    "This section shows you how to load the data you want. You can select any timestep, region (x,y,z) you want. You can set the quality or resolution of the data as well. Higher quality means the finer(more) data. Not setting any time means first timestep available. Not setting quality means full data which takes a while to load because of the higher filesize. "
   ]
  },
  {
   "cell_type": "code",
   "execution_count": null,
   "id": "38ac03df",
   "metadata": {
    "tags": []
   },
   "outputs": [],
   "source": [
    "data=db.read(time=0,quality=-18,z=[0,1])\n",
    "data.shape"
   ]
  },
  {
   "cell_type": "code",
   "execution_count": null,
   "id": "9f58a37b-677d-459d-bc18-978bce3653fa",
   "metadata": {},
   "outputs": [],
   "source": [
    "plt.imshow(data[0],origin='lower',vmin=31,vmax=38)"
   ]
  },
  {
   "cell_type": "markdown",
   "id": "db8a4846-f9ad-44a7-a39d-c1e2d28717b9",
   "metadata": {},
   "source": [
    "## **Step 4:  Visualize the data**\n",
    "We are using a simple matplotlib here, but since the data is in numpy array, it can loaded with any python modules that support numpy. Feel free to set the `vmin`,`vmax` appropriately."
   ]
  },
  {
   "cell_type": "code",
   "execution_count": null,
   "id": "c58133a1",
   "metadata": {
    "tags": []
   },
   "outputs": [],
   "source": [
    "fig,axes=plt.subplots(1,1, figsize=(10,8))\n",
    "axes.set_xlim(0,8640)\n",
    "axes.set_ylim(0,6480)\n",
    "im=axes.imshow(data[0,:,:],extent=[0,8640,0,6480],origin='lower',cmap='turbo',vmin=31,vmax=38)\n",
    "divider = make_axes_locatable(axes)\n",
    "cax = divider.append_axes(\"right\",  size=\"5%\", pad=0.1)  # Adjust size and pad as needed\n",
    "\n",
    "cbar = plt.colorbar(im, cax=cax)\n",
    "cbar.set_label('Salinity ( g kg-1)')\n",
    "plt.show()"
   ]
  },
  {
   "cell_type": "markdown",
   "id": "25eabbf6-5e69-4cca-9b19-4bf4f39e2c9b",
   "metadata": {},
   "source": [
    "## **But, what if you want to see the full data for a certain region at a certain depth?**\n",
    "Just set the right x,y,z while reading the data. x and y are the bounding box, z is the depth/layer. "
   ]
  },
  {
   "cell_type": "code",
   "execution_count": null,
   "id": "9a0c0f96-6a3e-4fbb-8fd7-04fda1096ff5",
   "metadata": {
    "tags": []
   },
   "outputs": [],
   "source": [
    "data1=db.read(time=0,z=[0,1],x=[4500,6000],y=[800,1400],quality=0)\n",
    "plt.imshow(data1[0,:,:], origin='lower',vmin=33,vmax=36,cmap='turbo')\n",
    "plt.colorbar()\n"
   ]
  },
  {
   "cell_type": "markdown",
   "id": "5fb5dfb4-4cb5-4b1f-883d-dc51ab629ebe",
   "metadata": {},
   "source": [
    "# **Step 5: Save the data for the region locally**\n",
    "You can save the data locally as you want. For example, here we are only saving the region shown above as a numpy array."
   ]
  },
  {
   "cell_type": "code",
   "execution_count": null,
   "id": "6f72dc90-87e3-4e20-a25c-d367b56a89b1",
   "metadata": {
    "tags": []
   },
   "outputs": [],
   "source": [
    "np.save('test_region1.npy', data1)"
   ]
  },
  {
   "cell_type": "markdown",
   "id": "991db680-b5a2-46eb-a945-0f553092d7d3",
   "metadata": {
    "tags": []
   },
   "source": [
    "# **Step 6: Load the locally saved region and visualize using matplotlib**"
   ]
  },
  {
   "cell_type": "code",
   "execution_count": null,
   "id": "07f1196a-cda1-4ac4-ba46-bd56a1121ffe",
   "metadata": {
    "tags": []
   },
   "outputs": [],
   "source": [
    "local_data=np.load('test_region1.npy')\n",
    "plt.imshow(local_data[0,:,:], origin='lower',vmin=33,vmax=36,cmap='turbo')\n",
    "plt.colorbar()"
   ]
  },
  {
   "cell_type": "markdown",
   "id": "d4c13ced-3fc0-406f-8ee4-d8455737e278",
   "metadata": {},
   "source": [
    "### *Please reach out to Aashish Panta, Giorgio Scorzelli or Valerio Pascucci for any concerns about the notebook. Thank you!*\n",
    "- Aashish Panta (aashishpanta0@gmail.com)\n",
    "- Giorgio Scorzelli (scrgiorgio@gmail.com)\n",
    "- Valerio Pascucci (pascucci.valerio@gmail.com)"
   ]
  },
  {
   "cell_type": "code",
   "execution_count": null,
   "id": "77058eb8-0847-4825-8f44-6e78a8eb4270",
   "metadata": {},
   "outputs": [],
   "source": []
  }
 ],
 "metadata": {
  "kernelspec": {
   "display_name": "Python 3 (ipykernel)",
   "language": "python",
   "name": "python3"
  },
  "language_info": {
   "codemirror_mode": {
    "name": "ipython",
    "version": 3
   },
   "file_extension": ".py",
   "mimetype": "text/x-python",
   "name": "python",
   "nbconvert_exporter": "python",
   "pygments_lexer": "ipython3",
   "version": "3.9.18"
  }
 },
 "nbformat": 4,
 "nbformat_minor": 5
}
